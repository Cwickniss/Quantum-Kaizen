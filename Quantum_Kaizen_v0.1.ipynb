{
 "cells": [
  {
   "cell_type": "markdown",
   "metadata": {},
   "source": [
    "============Quantum Kaizen============"
   ]
  },
  {
   "cell_type": "markdown",
   "metadata": {},
   "source": [
    "              Version 0.1"
   ]
  },
  {
   "cell_type": "markdown",
   "metadata": {},
   "source": [
    "     A game by the Decodoku Project"
   ]
  },
  {
   "cell_type": "code",
   "execution_count": 1,
   "metadata": {
    "scrolled": true
   },
   "outputs": [
    {
     "data": {
      "text/html": [
       "<script>\n",
       "showCode=true; \n",
       "$('div.input').hide();\n",
       "</script>\n",
       "Note: The raw code for this IPython notebook is hidden when run."
      ],
      "text/plain": [
       "<IPython.core.display.HTML object>"
      ]
     },
     "execution_count": 1,
     "metadata": {},
     "output_type": "execute_result"
    }
   ],
   "source": [
    "# hide code\n",
    "# adapted from http://blog.nextgenetics.net/?e=102\n",
    "from IPython.display import HTML\n",
    "HTML('''<script>\n",
    "showCode=true; \n",
    "$('div.input').hide();\n",
    "</script>\n",
    "The raw code for this IPython notebook is hidden when run''')"
   ]
  },
  {
   "cell_type": "code",
   "execution_count": 2,
   "metadata": {
    "collapsed": true
   },
   "outputs": [],
   "source": [
    "# Import Python interface for the web API\n",
    "import sys\n",
    "if sys.version_info < (3,0):\n",
    "    raise Exception(\"Please use Python version 3 or greater.\")\n",
    "from IBMQuantumExperience import IBMQuantumExperience"
   ]
  },
  {
   "cell_type": "code",
   "execution_count": 3,
   "metadata": {
    "collapsed": true
   },
   "outputs": [],
   "source": [
    "# Configure API Token (needs a Qconfig.py file, see https://github.com/IBM/qiskit-sdk-py/blob/master/scripts/getting_started_with_the_qx_api.ipynb)\n",
    "import Qconfig\n",
    "api = IBMQuantumExperience.IBMQuantumExperience(Qconfig.APItoken, Qconfig.config)"
   ]
  },
  {
   "cell_type": "code",
   "execution_count": 4,
   "metadata": {
    "collapsed": true
   },
   "outputs": [],
   "source": [
    "# Import other things we'll need\n",
    "import getpass, time"
   ]
  },
  {
   "cell_type": "code",
   "execution_count": 5,
   "metadata": {},
   "outputs": [
    {
     "name": "stdout",
     "output_type": "stream",
     "text": [
      "Press Enter to continue...\n",
      "\n"
     ]
    },
    {
     "data": {
      "text/plain": [
       "''"
      ]
     },
     "execution_count": 5,
     "metadata": {},
     "output_type": "execute_result"
    }
   ],
   "source": [
    "input(\"Press Enter to continue...\\n\")"
   ]
  },
  {
   "cell_type": "code",
   "execution_count": null,
   "metadata": {},
   "outputs": [
    {
     "name": "stdout",
     "output_type": "stream",
     "text": [
      "Quantum Yoshino is a simple version of Battleships, played on a quantum computer.\n",
      "\n",
      "Each player places three ships in five possible locations.\n",
      "\n",
      "Then they place bombs until one player loses all their ships.\n",
      "\n",
      "The first ship placed by each player takes 1 bomb to destroy.\n",
      "\n",
      "The second ship takes 2, and the third takes 3.\n",
      "\n"
     ]
    }
   ],
   "source": [
    "print(\"Quantum Yoshino is a simple version of Battleships, played on a quantum computer.\\n\")\n",
    "print(\"Each player places three ships in five possible locations.\\n\")\n",
    "print(\"Then they place bombs until one player loses all their ships.\\n\")\n",
    "print(\"The first ship placed by each player takes 1 bomb to destroy.\\n\")\n",
    "print(\"The second ship takes 2, and the third takes 3.\\n\")"
   ]
  },
  {
   "cell_type": "code",
   "execution_count": null,
   "metadata": {
    "collapsed": true
   },
   "outputs": [],
   "source": [
    "input(\"Press Enter to start placing ships...\\n\")"
   ]
  },
  {
   "cell_type": "code",
   "execution_count": null,
   "metadata": {
    "collapsed": true
   },
   "outputs": [],
   "source": [
    "# Now we get the players to give us positions of the ships\n",
    "# The variable ship[X][Y] will hold the position of the Yth ship of player X+1\n",
    "shipPos = [ [-1]*3 for _ in range(2)] # all values are initialized to the impossible position -1|"
   ]
  },
  {
   "cell_type": "code",
   "execution_count": null,
   "metadata": {
    "collapsed": true
   },
   "outputs": [],
   "source": [
    "# loop over both players and all three ships for each\n",
    "for player in [0,1]:\n",
    "    \n",
    "    print(\"\\n\\n\\nIt's now Player \" + str(player+1) + \"'s turn to choose positions for ships.\\n\")\n",
    "    \n",
    "    print(\"The numbers below mark places you can put a ship.\\n\")\n",
    "    print(\"4       0\")\n",
    "    print(\"|\\     /|\")\n",
    "    print(\"| \\   / |\")\n",
    "    print(\"|  \\ /  |\")\n",
    "    print(\"|   2   |\")\n",
    "    print(\"|  / \\  |\")\n",
    "    print(\"| /   \\ |\")\n",
    "    print(\"|/     \\|\")\n",
    "    print(\"3       1\\n\")\n",
    "    \n",
    "    for ship in [0,1,2]:\n",
    "        \n",
    "        # ask for a position for each ship, and keep asking until a valid answer is given\n",
    "        choosing = True\n",
    "        while (choosing):\n",
    "\n",
    "            # get player input\n",
    "            position = getpass.getpass(\"Choose a position for ship \" + str(ship+1) + \" (0, 1, 2, 3 or 4)\\n\")\n",
    "\n",
    "            # see if this is a valid input. ask for another if not\n",
    "            if position.isdigit(): # valid answers  have to be integers\n",
    "                position = int(position)\n",
    "                if (position in [0,1,2,3,4]) and (not position in shipPos[player]): # they need to be between 0 and 5, and not used for another ship of the same player\n",
    "                    shipPos[player][ship] = position\n",
    "                    choosing = False\n",
    "                    print (\"\\n\")\n",
    "                elif position in shipPos[player]:\n",
    "                    print(\"\\nYou already have a ship there. Try again.\\n\")\n",
    "                else:\n",
    "                    print(\"\\nThat's not a valid position. Try again.\\n\")\n",
    "            else:\n",
    "                print(\"\\nThat's not a valid position. Try again.\\n\")"
   ]
  },
  {
   "cell_type": "code",
   "execution_count": null,
   "metadata": {
    "collapsed": true
   },
   "outputs": [],
   "source": [
    "# Finally it's time for the main game loop.\n",
    "\n",
    "# In this we ask players for where they want to bomb, apply the bombs and repeat until all ships are destroyed\n",
    "\n",
    "# the game variable will be set to False once the game is over\n",
    "game = True\n",
    "\n",
    "# the variable bombs[X][Y] will hold the number of times position Y has been bombed by player X+1\n",
    "bomb = [ [0]*5 for _ in range(2)] # all values are initialized to the impossible position -1|\n",
    "\n",
    "while (game):\n",
    "    \n",
    "    input(\"Press Enter to place some bombs...\\n\")\n",
    "    \n",
    "    # ask both players where they want to bomb\n",
    "    for player in [0,1]:\n",
    "    \n",
    "        print(\"\\n\\n\\nIt's now Player \" + str(player+1) + \"'s turn.\\n\")\n",
    "\n",
    "        # keep asking until a valid answer is given\n",
    "        choosing = True\n",
    "        while (choosing):\n",
    "\n",
    "            # get player input\n",
    "            print(\"Choose a position to bomb (0, 1, 2, 3 or 4)\\n\")\n",
    "            print(\"4       0\")\n",
    "            print(\"|\\     /|\")\n",
    "            print(\"| \\   / |\")\n",
    "            print(\"|  \\ /  |\")\n",
    "            print(\"|   2   |\")\n",
    "            print(\"|  / \\  |\")\n",
    "            print(\"| /   \\ |\")\n",
    "            print(\"|/     \\|\")\n",
    "            print(\"3       1\\n\")\n",
    "            position = input(\"\")\n",
    "\n",
    "            # see if this is a valid input. ask for another if not\n",
    "            if position.isdigit(): # valid answers  have to be integers\n",
    "                position = int(position)\n",
    "                if position in [0,1,2,3,4]: # they need to be between 0 and 5, and not used for another ship of the same player\n",
    "                    bomb[player][position] = bomb[player][position] + 1\n",
    "                    choosing = False\n",
    "                    print (\"\\n\")\n",
    "                else:\n",
    "                    print(\"\\nThat's not a valid position. Try again.\\n\")\n",
    "            else:\n",
    "                print(\"\\nThat's not a valid position. Try again.\\n\")\n",
    "                \n",
    "    # now we write the OPENQASM scripts that will implement this on the quantum processor\n",
    "    \n",
    "    runGrid = [\"\",\"\"]\n",
    "    \n",
    "    for player in range(2):\n",
    "        # first all the preamble for a circuit with 5 qubits and 3 outputs\n",
    "        runGrid[player] = \"\"\"\n",
    "OPENQASM 2.0;\n",
    "include \"qelib1.inc\";\n",
    "qreg q[5];\n",
    "creg c[3];\n",
    "        \"\"\"\n",
    "        # create ships with a Hadamard\n",
    "        for ship in range(3):\n",
    "            runGrid[player] = runGrid[player] + \"\\n\" + \"h q[\" + str(shipPos[player][ship]) + \"];\"\n",
    "        \n",
    "        # add the bombs (of the opposing player)\n",
    "        runGrid[player] = runGrid[player] + \"\\n\"\n",
    "        for position in range(5):\n",
    "            # add as many bombs as have been placed at this position\n",
    "            for n in range( bomb[(player+1)%2][position] ):\n",
    "                # the effectiveness of the bomb (which means the quantum operation we apply) depends on which ship it is\n",
    "                for ship in [0,1,2]:\n",
    "                    if ( position == shipPos[player][ship] ):\n",
    "                        frac = 1/(4-ship)\n",
    "                        runGrid[player] = runGrid[player] + \"\\n\" + \"u1( \" + str(frac) + \" * pi) q[\" + str(position) + \"];\"\n",
    "                \n",
    "        #finally, measure them (in X basis, so Hadamards first)\n",
    "        runGrid[player] = runGrid[player] + \"\\n\"\n",
    "        for ship in range(3):\n",
    "            runGrid[player] = runGrid[player] + \"\\n\" + \"h q[\" + str(shipPos[player][ship]) + \"];\"\n",
    "        runGrid[player] = runGrid[player] + \"\\n\"\n",
    "        for ship in range(3):\n",
    "            runGrid[player] = runGrid[player] + \"\\n\" + \"measure q[\" + str(shipPos[player][ship]) + \"] -> c[\" + str(ship) + \"];\"\n",
    "    \n",
    "    # to see what the quantum computer is asked to do, we can print these files\n",
    "    # print(runGrid[0])\n # for debugging",
    "    # print(runGrid[1])\n # for debugging",
    "    print(\"\\n\")\n",
    "    \n",
    "    # let's get these jobs running\n",
    "    out = api.run_job(qasms = [{'qasm' : runGrid[0] },{'qasm' : runGrid[1] }],device = 'sim',shots = 1024, max_credits=3)\n",
    "    print(out['status'])\n",
    "\n",
    "    # keep the players updated on status\n",
    "    jobids=out['id']\n",
    "    results = api.get_job(jobids)\n",
    "    print(results['status'])\n",
    "    while (results['status'] == 'RUNNING'):\n",
    "        time.sleep(2)\n",
    "        results = api.get_job(jobids)\n",
    "        print(results['status'])\n",
    "    print (\"\\n\")\n",
    "    \n",
    "    # get data\n",
    "    get_data = lambda results, i: results['qasms'][i]['result']['data']['counts']\n",
    "    \n",
    "    grid = [ get_data(results,0) , get_data(results,1) ]\n",
    "    \n",
    "    # get damage for all ships and see if the game is over\n",
    "    damage = [ [0]*3 for _ in range(2)]\n",
    "    # extracted from the results in grid\n",
    "    for player in [0,1]:\n",
    "        for r1 in [0,1]:\n",
    "            for r2 in [0,1]:\n",
    "\n",
    "                    # results are stored in grid[player] as a dictionary\n",
    "                    # keys are bit strings, with the leftmost bit corresponding to the first ship\n",
    "                    # for each ship we construct a string with a 1 (which corresponds to damage) in the relevant position\n",
    "                    bits0 = str(r2) + str(r1) + \"1\"\n",
    "                    bits1 = str(r2) + \"1\" + str(r1)\n",
    "                    bits2 = \"1\" + str(r2) + str(r1)\n",
    "\n",
    "                    if bits0 in grid[player].keys():\n",
    "                        damage[player][0] = damage[player][0] + grid[player][bits0]/1024\n",
    "                    if bits1 in grid[player].keys():\n",
    "                        damage[player][1] = damage[player][1] + grid[player][bits1]/1024\n",
    "                    if bits2 in grid[player].keys():  \n",
    "                        damage[player][2] = damage[player][2] + grid[player][bits2]/1024\n",
    "         \n",
    "        # give results to players\n",
    "        input(\"Press Enter to see the results for Player \" + str(player+1) + \"'s ships...\\n\")\n",
    "        \n",
    "        # report the ships with significant damange\n",
    "        # ideally this would be non-zero damage, but noise means that can happen for ships that haven't been hit\n",
    "        # so we choose 5% as the threshold\n",
    "        display = [\" ? \"]*5\n",
    "        for ship in [0,1,2]:\n",
    "            if ( damage[player][ship] > 0.05 ):\n",
    "                display[ shipPos[player][ship] ] = str(int( 100*damage[player][ship] )) +\"%\"\n",
    "        \n",
    "        print(\"Here is the percentage damage for ships that have been bombed.\\n\")\n",
    "        print(display[ 4 ] + \"     \" + display[ 0 ])\n",
    "        print(\" |\\     /|\")\n",
    "        print(\" | \\   / |\")\n",
    "        print(\" |  \\ /  |\")\n",
    "        print(\" |  \" + display[ 2 ] + \"  |\")\n",
    "        print(\" |  / \\  |\")\n",
    "        print(\" | /   \\ |\")\n",
    "        print(\" |/     \\|\")\n",
    "        print(display[ 3 ] + \"     \" + display[ 1 ])\n",
    "        print(\"\\n\")\n",
    "        print(\"Ships with 95% damage or more have been destroyed\\n\")\n",
    "        \n",
    "        print(\"\\n\")\n",
    "           \n",
    "        # if a player has all their ships destroyed, the game is over\n",
    "        # ideally this would mean 100% damage, but we go for 95% because of noise again\n",
    "        if (damage[player][0]>.95) and (damage[player][1]>.95) and (damage[player][2]>.95):\n",
    "            print (\"All your ships have been destroyed!\\n\")\n",
    "            game = False\n",
    "            \n",
    "    if (game is False):\n",
    "        print (\"Game Over\\n\")\n",
    "        "
   ]
  },
  {
   "cell_type": "code",
   "execution_count": null,
   "metadata": {
    "collapsed": true
   },
   "outputs": [],
   "source": []
  },
  {
   "cell_type": "code",
   "execution_count": null,
   "metadata": {
    "collapsed": true
   },
   "outputs": [],
   "source": []
  }
 ],
 "metadata": {
  "kernelspec": {
   "display_name": "Python 3",
   "language": "python",
   "name": "python3"
  },
  "language_info": {
   "codemirror_mode": {
    "name": "ipython",
    "version": 3
   },
   "file_extension": ".py",
   "mimetype": "text/x-python",
   "name": "python",
   "nbconvert_exporter": "python",
   "pygments_lexer": "ipython3",
   "version": "3.5.2"
  }
 },
 "nbformat": 4,
 "nbformat_minor": 2
}
